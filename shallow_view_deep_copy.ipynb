{
 "cells": [
  {
   "cell_type": "code",
   "execution_count": 14,
   "id": "3d683b3a-fa89-4b23-b367-0d14373cedf8",
   "metadata": {},
   "outputs": [
    {
     "name": "stdout",
     "output_type": "stream",
     "text": [
      "Original List: [1, 2, [30, 4]]\n",
      "Shallow Copied List: [10, 2, [30, 4]]\n"
     ]
    }
   ],
   "source": [
    "#### Shallow COPY\n",
    "import copy\n",
    "\n",
    "# Original list\n",
    "original_list = [1, 2, [3, 4]]\n",
    "\n",
    "# Create a shallow copy\n",
    "shallow_copied_list = copy.copy(original_list)\n",
    "\n",
    "# Modifying the shallow copy\n",
    "shallow_copied_list[0] = 10  # This change will not affect the original list\n",
    "shallow_copied_list[2][0] = 30  # This change will affect the original list\n",
    "\n",
    "print(\"Original List:\", original_list)  # Output: [1, 2, [30, 4]]\n",
    "print(\"Shallow Copied List:\", shallow_copied_list)  # Output: [10, 2, [30, 4]]\n"
   ]
  },
  {
   "cell_type": "code",
   "execution_count": 18,
   "id": "2fc57032-6f41-4290-a00e-c826707c1794",
   "metadata": {},
   "outputs": [
    {
     "name": "stdout",
     "output_type": "stream",
     "text": [
      "Original List: [1, 2, 3, 4]\n",
      "View List: [10, 3]\n"
     ]
    }
   ],
   "source": [
    "#### View\n",
    "# Original list\n",
    "original_list = [1, 2, 3, 4]\n",
    "\n",
    "# Creating a view using slicing\n",
    "view_list = original_list[1:3]  # This creates a new list that references the elements\n",
    "\n",
    "# Modifying the view\n",
    "view_list[0] = 10  # This change will not affect the original list\n",
    "\n",
    "# Modifying the original list\n",
    "original_list[1] = 20  # This change will affect the view\n",
    "\n",
    "print(\"Original List:\", original_list)  # Output: [1, 20, 3, 4]\n",
    "print(\"View List:\", view_list)  # Output: [3] (the view does not reflect the change in the original)\n"
   ]
  },
  {
   "cell_type": "code",
   "execution_count": null,
   "id": "76cbce28-5e91-4555-adbe-381d1fbc06c8",
   "metadata": {},
   "outputs": [],
   "source": [
    "#### Deep copy\n",
    "\n",
    "# Original list\n",
    "original_list = [1, 2, [3, 4]]\n",
    "\n",
    "# Create a deep copy\n",
    "deep_copied_list = copy.deepcopy(original_list)\n",
    "\n",
    "# Modifying the deep copy\n",
    "deep_copied_list[0] = 10  # This change will not affect the original list\n",
    "deep_copied_list[2][0] = 30  # This change will not affect the original list\n",
    "\n",
    "print(\"Original List:\", original_list)  # Output: [1, 2, [3, 4]]\n",
    "print(\"Deep Copied List:\", deep_copied_list)  # Output: [10, 2, [30, 4]]\n"
   ]
  },
  {
   "cell_type": "code",
   "execution_count": 22,
   "id": "fc0a9797-2533-4ffe-8b49-eea87624b4e9",
   "metadata": {},
   "outputs": [
    {
     "name": "stdout",
     "output_type": "stream",
     "text": [
      "Original Array:\n",
      " [[100   2   3]\n",
      " [  4   5   6]]\n",
      "Shallow Copied Array:\n",
      " [[100   2   3]\n",
      " [  4   5   6]]\n"
     ]
    }
   ],
   "source": [
    "import numpy as np\n",
    "\n",
    "# Create a NumPy array\n",
    "original_array = np.array([[1, 2, 3], [4, 5, 6]])\n",
    "\n",
    "# Create a shallow copy \n",
    "shallow_copied_array = original_array\n",
    "\n",
    "original_array[0,0] = 100 #This change will affect the shallow_copied array\n",
    "\n",
    "# Modify the shallow copy\n",
    "shallow_copied_array[0, 0] = 10  # This change will affect the original array\n",
    "\n",
    "print(\"Original Array:\\n\", original_array)\n",
    "print(\"Shallow Copied Array:\\n\", shallow_copied_array)\n"
   ]
  },
  {
   "cell_type": "code",
   "execution_count": 12,
   "id": "b2a4b8d2-fce5-4153-aeb2-4acd5097bfa5",
   "metadata": {},
   "outputs": [
    {
     "name": "stdout",
     "output_type": "stream",
     "text": [
      "Original Array:\n",
      " [[10  2  3]\n",
      " [ 4  5  6]]\n",
      "View Array:\n",
      " [10  2  3]\n"
     ]
    }
   ],
   "source": [
    "# Create a NumPy array\n",
    "original_array = np.array([[1, 2, 3], [4, 5, 6]])\n",
    "\n",
    "# Create a view using slicing\n",
    "view_array = original_array[0, :]  # This creates a view of the first row\n",
    "\n",
    "# Modify the view\n",
    "view_array[0] = 10  # This change will affect the original array\n",
    "\n",
    "print(\"Original Array:\\n\", original_array)\n",
    "print(\"View Array:\\n\", view_array)\n"
   ]
  },
  {
   "cell_type": "code",
   "execution_count": 24,
   "id": "c8aadfba-4ff3-429a-a2c7-58f0fa9c443a",
   "metadata": {},
   "outputs": [
    {
     "name": "stdout",
     "output_type": "stream",
     "text": [
      "Original Array:\n",
      " [[1 2 3]\n",
      " [4 5 6]]\n",
      "Deep Copied Array:\n",
      " [[10  2  3]\n",
      " [ 4  5  6]]\n"
     ]
    }
   ],
   "source": [
    "import numpy as np\n",
    "\n",
    "# Create a NumPy array\n",
    "original_array = np.array([[1, 2, 3], [4, 5, 6]])\n",
    "\n",
    "# Create a deep copy\n",
    "deep_copied_array = original_array.copy()\n",
    "\n",
    "# Modify the deep copy\n",
    "deep_copied_array[0, 0] = 10  # This change will not affect the original array\n",
    "\n",
    "print(\"Original Array:\\n\", original_array)\n",
    "print(\"Deep Copied Array:\\n\", deep_copied_array)\n"
   ]
  },
  {
   "cell_type": "code",
   "execution_count": null,
   "id": "a042bee7-482d-4dce-b206-6d82da6eb43e",
   "metadata": {},
   "outputs": [],
   "source": []
  }
 ],
 "metadata": {
  "kernelspec": {
   "display_name": "Python 3 (ipykernel)",
   "language": "python",
   "name": "python3"
  },
  "language_info": {
   "codemirror_mode": {
    "name": "ipython",
    "version": 3
   },
   "file_extension": ".py",
   "mimetype": "text/x-python",
   "name": "python",
   "nbconvert_exporter": "python",
   "pygments_lexer": "ipython3",
   "version": "3.11.5"
  },
  "widgets": {
   "application/vnd.jupyter.widget-state+json": {
    "state": {},
    "version_major": 2,
    "version_minor": 0
   }
  }
 },
 "nbformat": 4,
 "nbformat_minor": 5
}
